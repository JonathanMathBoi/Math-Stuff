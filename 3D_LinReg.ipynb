{
 "cells": [
  {
   "cell_type": "markdown",
   "metadata": {},
   "source": [
    "#Playing with Linear Regressions\n",
    "\n",
    "In this notebook, I am going to explore a Linear Regression with 3 variables.\n",
    "\n",
    "Let $(x_i, y_i, z_i)$ be a set of points, where $0 \\leq i \\leq n$.\n",
    "Let $z$ be predicted by $(x, y)$.\n",
    "Let $\\hat{z} = \\beta_0 + \\beta_1 x + \\beta_2 y$, where predicted $z$ is $\\hat{z}$.\n",
    "Let $r_i$ be the residual for the $i$th point, thus $r_i = z_i - (\\beta_0 + \\beta_1 x_i + \\beta_2 y_i)$.\n",
    "\n",
    "The idea with Linear Regression, and Machine Learning, is to minimize the sum of the squares of the residuals. This leads to the idea of the Cost Function. The Cost function is defined as follows. $$C(\\beta_0, \\beta_1, \\beta_2) = \\displaystyle\\sum_i r_i^2 = \\displaystyle\\sum_i (z_i - (\\beta_0 + \\beta_1 x_i + \\beta_2 y_i))^2$$"
   ]
  }
 ],
 "metadata": {
  "language_info": {
   "codemirror_mode": {
    "name": "ipython",
    "version": 3
   },
   "file_extension": ".py",
   "mimetype": "text/x-python",
   "name": "python",
   "nbconvert_exporter": "python",
   "pygments_lexer": "ipython3",
   "version": 3
  },
  "orig_nbformat": 2
 },
 "nbformat": 4,
 "nbformat_minor": 2
}