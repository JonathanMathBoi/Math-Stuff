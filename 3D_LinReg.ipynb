{
  "nbformat": 4,
  "nbformat_minor": 0,
  "metadata": {
    "orig_nbformat": 2,
    "colab": {
      "name": "3D_LinReg.ipynb",
      "provenance": []
    },
    "kernelspec": {
      "name": "python3",
      "display_name": "Python 3"
    }
  },
  "cells": [
    {
      "cell_type": "markdown",
      "metadata": {
        "id": "JTyjjHu91ISE",
        "colab_type": "text"
      },
      "source": [
        "#Playing with Linear Regressions\n",
        "\n",
        "In this notebook, I am going to explore a Linear Regression with 3 variables.\n",
        "\n",
        "Let $(x_i, y_i, z_i)$ be a set of points, where $0 \\leq i \\leq n$.\n",
        "Let $z$ be predicted by $(x, y)$.\n",
        "Let $\\hat{z} = \\beta_0 + \\beta_1 x + \\beta_2 y$, where predicted $z$ is $\\hat{z}$.\n",
        "Let $r_i$ be the residual for the $i$th point, thus $r_i = z_i - (\\beta_0 + \\beta_1 x_i + \\beta_2 y_i)$.\n",
        "\n",
        "The idea with Linear Regression, and Machine Learning, is to minimize the sum of the squares of the residuals. This leads to the idea of the Cost Function. The Cost function is defined as follows. $$C(\\beta_0, \\beta_1, \\beta_2) = \\displaystyle\\sum_i r_i^2 = \\displaystyle\\sum_i (z_i - (\\beta_0 + \\beta_1 x_i + \\beta_2 y_i))^2$$\n",
        "\n",
        "I am going to split the Cost Function into a sum of $n$ Cost Functions. $$C(\\beta_0, \\beta_1, \\beta_2) = \\displaystyle\\sum_i C_i(\\beta_0, \\beta_1, \\beta_2)$$ $$C_i(\\beta_0, \\beta_1, \\beta_2) = (z_i - (\\beta_0 + \\beta_1 x_i + \\beta_2 y_i))^2 = r_i^2$$\n",
        "\n",
        "I'm now going to use some sympy to help explain gradient decent"
      ]
    },
    {
      "cell_type": "code",
      "metadata": {
        "id": "o0u6W3cF2L2K",
        "colab_type": "code",
        "colab": {}
      },
      "source": [
        "import sympy as sp\n",
        "import sympy.vector as vec\n",
        "\n",
        "xi, yi, zi = sp.symbols('x_i y_i z_i')\n",
        "Betas = vec.CoordSys3D('B')"
      ],
      "execution_count": 0,
      "outputs": []
    }
  ]
}