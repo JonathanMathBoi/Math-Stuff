{
 "cells": [
  {
   "cell_type": "markdown",
   "metadata": {},
   "source": [
    "In this notebook, I am going to explore a Linear Regression with 3 variables.\n",
    "\n",
    "Let $(x_i, y_i, z_i)$ be a set of points, where $0 \\leq i \\leq n$.\n",
    "Let $z$ be predicted by $(x, y)$.\n",
    "Let $\\hat{z} = \\beta_0 + \\beta_1 x + \\beta_2 y$, where predicted $z$ is $\\hat{z}$.\n",
    "Let $r_i$ be the residual for the $i$th point, thus $r_i = z_i - (\\beta_0 + \\beta_1 x_i + \\beta_2 y_i)$.\n",
    "\n",
    "The idea with Linear Regression, and Machine Learning, is to minimize the sum of the squares of the residuals."
   ]
  }
 ],
 "metadata": {
  "language_info": {
   "codemirror_mode": {
    "name": "ipython",
    "version": 3
   },
   "file_extension": ".py",
   "mimetype": "text/x-python",
   "name": "python",
   "nbconvert_exporter": "python",
   "pygments_lexer": "ipython3",
   "version": 3
  },
  "orig_nbformat": 2
 },
 "nbformat": 4,
 "nbformat_minor": 2
}