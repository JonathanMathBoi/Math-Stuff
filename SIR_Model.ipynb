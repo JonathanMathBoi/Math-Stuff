{
 "cells": [
  {
   "cell_type": "markdown",
   "metadata": {},
   "source": [
    "# SIR Model\n",
    "\n",
    "The SIR model is a common model in epidemiology. It stands for Susceptible, Infectious, or Recovered and is governed by the following differential equations.\n",
    "$$\\frac{dS}{dt}=-\\frac{\\beta S I}{N}$$\n",
    "$$\\frac{dI}{dt}=\\frac{\\beta S I}{N}-\\gamma I$$\n",
    "$$\\frac{dR}{dt}=\\gamma I$$\n",
    "Where $N$ is the population size, $\\beta$ is the infection rate, and $\\gamma$ is the recovery rate.\n",
    "\n",
    "For the following computations I will be treating the functions as a vector $\\textbf{y}(t) = \\begin{bmatrix}S(t) \\newline I(t) \\newline R(t)\\end{bmatrix}$. Thusly, $\\frac{d\\textbf{y}}{dt}=\\begin{bmatrix}-\\frac{\\beta S I}{N} \\newline \\frac{\\beta S I}{N}-\\gamma I \\newline \\gamma I\\end{bmatrix}$"
   ]
  },
  {
   "cell_type": "code",
   "execution_count": 2,
   "metadata": {},
   "outputs": [],
   "source": [
    "from scipy.integrate import solve_ivp\n",
    "import numpy as np\n",
    "import matplotlib.pyplot as plt\n",
    "\n",
    "def der(t, y, N, beta, gamma): #Returns dy/dt\n",
    "    return [-beta*y[0]*y[1]/N, beta*y[0]*y[1]/N - gamma*y[1], gamma*y[1]]\n",
    "\n",
    "\n",
    "def show_sol(S0, I0, R0, beta, gamma=0.03): #Numericly Solves the set of equations and displays the solutions\n",
    "    sol = solve_ivp(der, (0, 1000), [S0, I0, R0], args=(S0+I0+R0, beta, gamma),\n",
    "                    t_eval=np.linspace(0, 1000))\n",
    "    plt.plot(sol.t, sol.y[0], label='Susceptible')\n",
    "    plt.plot(sol.t, sol.y[1], label='Infectious')\n",
    "    plt.plot(sol.t, sol.y[2], label='Recovered')\n",
    "    plt.legend()\n"
   ]
  },
  {
   "cell_type": "code",
   "execution_count": 4,
   "metadata": {},
   "outputs": [
    {
     "data": {
      "application/vnd.jupyter.widget-view+json": {
       "model_id": "18b57e667e2b40b4a34a66683e3d4b6e",
       "version_major": 2,
       "version_minor": 0
      },
      "text/plain": [
       "Tab(children=(VBox(children=(FloatSlider(value=0.99, description='$S_0$', max=1.0, step=0.01), FloatSlider(val…"
      ]
     },
     "metadata": {},
     "output_type": "display_data"
    },
    {
     "data": {
      "application/vnd.jupyter.widget-view+json": {
       "model_id": "09347f44a0024f50af932ee5e281058d",
       "version_major": 2,
       "version_minor": 0
      },
      "text/plain": [
       "Output()"
      ]
     },
     "metadata": {},
     "output_type": "display_data"
    }
   ],
   "source": [
    "import ipywidgets as widgets\n",
    "from ipywidgets import interact, interact_manual\n",
    "\n",
    "S0 = widgets.FloatSlider(value=0.99, min=0.0, max=1.0, step=0.01,\n",
    "                         description='$S_0$', continuous_update=True)\n",
    "I0 = widgets.FloatSlider(value=0.01, min=0.0, max=1.0, step=0.01,\n",
    "                         description='$I_0$', continuous_update=True)\n",
    "R0 = widgets.FloatSlider(value=0.0, min=0.0, max=1.0, step=0.01,\n",
    "                         description='$R_0$', continuous_update=True)\n",
    "beta = widgets.FloatSlider(value=0.2, min=0.0, max=0.4, step=0.01,\n",
    "                           description=r'$\\beta$', continuous_update=True)\n",
    "gamma = widgets.FloatSlider(value=0.03, min=0.0, max=0.4, step=0.01,\n",
    "                            description=r'$\\gamma$', continuous_update=True)\n",
    "\n",
    "ui = widgets.Tab()\n",
    "ui.children = [widgets.VBox([S0, I0, R0]), widgets.VBox([beta, gamma])]\n",
    "ui.set_title(0, 'Initial Conditions')\n",
    "ui.set_title(1, 'Parameters')\n",
    "\n",
    "out = widgets.interactive_output(show_sol, {'S0': S0, 'I0': I0, 'R0': R0, 'beta': beta})\n",
    "\n",
    "display(ui, out)"
   ]
  }
 ],
 "metadata": {
  "kernelspec": {
   "display_name": "Python 3",
   "language": "python",
   "name": "python3"
  },
  "language_info": {
   "codemirror_mode": {
    "name": "ipython",
    "version": 3
   },
   "file_extension": ".py",
   "mimetype": "text/x-python",
   "name": "python",
   "nbconvert_exporter": "python",
   "pygments_lexer": "ipython3",
   "version": "3.7.6"
  }
 },
 "nbformat": 4,
 "nbformat_minor": 4
}
