{
 "cells": [
  {
   "cell_type": "markdown",
   "metadata": {},
   "source": [
    "# SIR Model\n",
    "\n",
    "The SIR model is a common model in epidemiology. It stands for Susceptible, Infectious, or Recovered and is governed by the following differential equations.\n",
    "$$\\frac{dS}{dt}=-\\frac{\\beta S I}{N}$$\n",
    "$$\\frac{dI}{dt}=\\frac{\\beta S I}{N}-\\gamma I$$\n",
    "$$\\frac{dR}{dt}=\\gamma I$$\n",
    "Where $N$ is the population size, $\\beta$ is the infection rate, and $\\gamma$ is the recovery rate.\n",
    "\n",
    "For the following computations I will be treating the functions as a vector $\\textbf{y}(t) = \\begin{bmatrix}S(t) \\newline I(t) \\newline R(t)\\end{bmatrix}$. Thusly, $\\frac{d\\textbf{y}}{dt}=\\begin{bmatrix}-\\frac{\\beta S I}{N} \\newline \\frac{\\beta S I}{N}-\\gamma I \\newline \\gamma I\\end{bmatrix}$"
   ]
  },
  {
   "cell_type": "code",
   "execution_count": null,
   "metadata": {},
   "outputs": [],
   "source": [
    "from scipy.integrate import solve_ivp\n",
    "import numpy as np\n",
    "import matplotlib.pyplot as plt\n",
    "import ipywidgets as widgets\n",
    "from ipywidgets import interact, interact_manual\n",
    "\n",
    "def der(t, y, N, beta, gamma):\n",
    "    return [-beta*y[0]*y[1]/N, beta*y[0]*y[1]/N - gamma*y[1], gamma*y[1]]\n",
    "\n",
    "@interact\n",
    "def show_sol(I0=(0, 1, 0.01), R0=(0, 1, 0.01), beta=(0, 1, 0.01), gamma=0.03):\n",
    "    sol = solve_ivp(der, (0, 1000), [1, I0, R0], args=(1+I0+R0, beta, gamma), t_eval=np.linspace(0, 1000))\n",
    "    plt.plot(sol.t, sol.y.T)"
   ]
  }
 ],
 "metadata": {
  "kernelspec": {
   "display_name": "Python 3",
   "language": "python",
   "name": "python3"
  },
  "language_info": {
   "codemirror_mode": {
    "name": "ipython",
    "version": 3
   },
   "file_extension": ".py",
   "mimetype": "text/x-python",
   "name": "python",
   "nbconvert_exporter": "python",
   "pygments_lexer": "ipython3",
   "version": "3.7.6"
  }
 },
 "nbformat": 4,
 "nbformat_minor": 4
}
